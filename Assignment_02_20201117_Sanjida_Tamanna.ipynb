{
 "cells": [
  {
   "cell_type": "code",
   "execution_count": 3,
   "metadata": {},
   "outputs": [
    {
     "name": "stdout",
     "output_type": "stream",
     "text": [
      "Please enter a number: 5\n",
      "Please enter a number: 0\n",
      "Result is: 0\n"
     ]
    }
   ],
   "source": [
    "#Task1\n",
    "inp_1=int(input(\"Please enter a number: \"))\n",
    "inp_2=int(input(\"Please enter a number: \")) \n",
    "def fraction(inp_1,inp_2):\n",
    "    numb=inp_1/inp_2 \n",
    "    frac=numb%1 \n",
    "    return frac \n",
    "if inp_2 == 0: \n",
    "    frac=0 \n",
    "else: \n",
    "    frac=fraction(inp_1,inp_2) \n",
    "print (\"Result is:\", frac) "
   ]
  },
  {
   "cell_type": "code",
   "execution_count": 7,
   "metadata": {},
   "outputs": [
    {
     "name": "stdout",
     "output_type": "stream",
     "text": [
      "Enter height: 176\n",
      "Enter weight: 96\n",
      "Score is 31.0. You are Obese\n"
     ]
    }
   ],
   "source": [
    "#Task2\n",
    "height = float(input(\"Enter height: \"))\n",
    "weight = float(input(\"Enter weight: \"))\n",
    "\n",
    "def BMI_calculate(height, weight):\n",
    "    height = height / 100.0\n",
    "    total_bmi = weight / (height ** 2)\n",
    "    if (total_bmi < 18.5):\n",
    "        return (\"Score is {:.1f}. You are Underweight\".format(total_bmi))\n",
    "    elif (total_bmi >= 18.5 and total_bmi < 24.9):\n",
    "        return (\"Score is {:.1f}. You are Normal\".format(total_bmi))\n",
    "    elif (total_bmi >= 25 and total_bmi <= 30):\n",
    "        return (\"Score is {:.1f}. You are Overweight\".format(total_bmi))\n",
    "    elif (total_bmi > 30):\n",
    "        return (\"Score is {:.1f}. You are Obese\".format(total_bmi))\n",
    "    \n",
    "print(BMI_calculate(height, weight))\n"
   ]
  },
  {
   "cell_type": "code",
   "execution_count": 8,
   "metadata": {},
   "outputs": [
    {
     "name": "stdout",
     "output_type": "stream",
     "text": [
      "Enter minimum: 0\n",
      "Enter maximum: 10\n",
      "Enter divisor: 2\n",
      "20\n"
     ]
    }
   ],
   "source": [
    "# Task3\n",
    "inpu_1 = int(input(\"Enter minimum: \"))\n",
    "inpu_2 = int(input(\"Enter maximum: \"))\n",
    "inpu_3 = int(input(\"Enter divisor: \"))\n",
    "\n",
    "def divi_sum(inp_1, inpu_2, inpu_3):\n",
    "    sum = 0\n",
    "    for numb in range(inp_1, inpu_2):\n",
    "        if (numb % inpu_3 == 0):\n",
    "            sum = sum + numb\n",
    "    return sum\n",
    "\n",
    "print(divi_sum(inpu_1, inpu_2, inpu_3))"
   ]
  },
  {
   "cell_type": "code",
   "execution_count": 9,
   "metadata": {},
   "outputs": [
    {
     "name": "stdout",
     "output_type": "stream",
     "text": [
      "Enter Burger and Enter Area : Beef Burger,Mohakhali\n",
      "223.6\n"
     ]
    }
   ],
   "source": [
    "#Task4\n",
    "burger,place = input(\"Enter Burger and Enter Area : \").split(\",\")\n",
    "def burger_price(burger, place=\"Mohakhali\"):\n",
    "    price = 0\n",
    "    if (burger == 'BBQ Chicken Cheese Burger'):\n",
    "        price = 250\n",
    "    elif (burger == 'Beef Burger'):\n",
    "        price = 170\n",
    "    elif (burger == 'Naga Drums'):\n",
    "        price = 200\n",
    "    price *= 1.08\n",
    "    if (place == 'Mohakhali'):\n",
    "        price += 40\n",
    "    else:\n",
    "        price += 60\n",
    "    return round(price, 1)\n",
    "print(burger_price(burger,place))"
   ]
  },
  {
   "cell_type": "code",
   "execution_count": 10,
   "metadata": {},
   "outputs": [
    {
     "name": "stdout",
     "output_type": "stream",
     "text": [
      "Enter mail ,Enter new domain ,Enter old domain: alice@kaaj.com,sheba.xyz,kaaj.com\n",
      "Changed:  alice@sheba.xyz\n"
     ]
    }
   ],
   "source": [
    "#Task5\n",
    "email,new_domain,old_domain = input(\"Enter mail ,Enter new domain ,Enter old domain: \").split(\",\")\n",
    "def replace_domain(email, new_domain , old_domain):\n",
    " lst1 = email.split('@')\n",
    " if(lst1[1] == new_domain):\n",
    "  print('Unchanged: ', email)\n",
    " else:\n",
    "  new_email = lst1[0] + '@' + new_domain\n",
    "  print('Changed: ', new_email)\n",
    "replace_domain(email, new_domain, old_domain)"
   ]
  },
  {
   "cell_type": "code",
   "execution_count": 11,
   "metadata": {},
   "outputs": [
    {
     "name": "stdout",
     "output_type": "stream",
     "text": [
      "Enter your name: Steve Jobs\n",
      "Vowels: e,e,o. Total Number of Vowels:3\n"
     ]
    }
   ],
   "source": [
    "#Task6\n",
    "inpu = input(\"Enter your name: \")\n",
    "vow_found = \"\"\n",
    "vowels = \"AaEeIiOoUu\"\n",
    "flag = 0\n",
    "cou = 0\n",
    "for pro in inpu:\n",
    "    flag = 0\n",
    "    for prio in vowels:\n",
    "        if (pro == prio):\n",
    "            flag = 1\n",
    "    if (flag == 1):\n",
    "        vow_found += pro +\",\"\n",
    "        cou += 1\n",
    "if (cou != 0):\n",
    "    print(\"Vowels: \" + vow_found[:-1] + \".\" + \" Total Number of Vowels:\" + str(cou) )\n",
    "else:\n",
    "    print(\"No Vowels in the name!\")"
   ]
  },
  {
   "cell_type": "code",
   "execution_count": 12,
   "metadata": {},
   "outputs": [
    {
     "name": "stdout",
     "output_type": "stream",
     "text": [
      "Enter a input :madam\n",
      "Palindrome\n"
     ]
    }
   ],
   "source": [
    "#task-7\n",
    "inpu=input(\"Enter a input :\")\n",
    "def replacer(numb_1):\n",
    "    numb_1 = numb_1.replace(\"\", \"\")\n",
    "    numb_2 = \"\"\n",
    "    for i in range(len(numb_1) - 1, -1, -1):\n",
    "        numb_2 = numb_2 + numb_1[i]\n",
    "    if numb_2 != numb_1:\n",
    "        return (\"Not a Palindrome\")\n",
    "\n",
    "    else:\n",
    "        return (\"Palindrome\")\n",
    "\n",
    "print(replacer(inpu))"
   ]
  },
  {
   "cell_type": "code",
   "execution_count": 13,
   "metadata": {},
   "outputs": [
    {
     "name": "stdout",
     "output_type": "stream",
     "text": [
      "Enter a input :4000\n",
      "10 years, 11 months  and 20 days\n"
     ]
    }
   ],
   "source": [
    "# task-8\n",
    "inpu=int(input(\"Enter a input :\"))\n",
    "def days_counter(counter):\n",
    "    years = (counter) // 365\n",
    "    months = (counter % 365) // 30\n",
    "    days = (counter % 365 % 30)\n",
    "    print(years,'years,',months,'months','', 'and',days,'days')\n",
    "\n",
    "days_counter(inpu)"
   ]
  },
  {
   "cell_type": "code",
   "execution_count": 14,
   "metadata": {},
   "outputs": [
    {
     "name": "stdout",
     "output_type": "stream",
     "text": [
      "Enter a input :my favourite animal is a dog. a dog has sharp teeth so that it can eat flesh very easily. do you know my pet dog’s name? i love my pet very much.\n",
      "My favourite animal is a dog. A dog has sharp teeth so that it can eat flesh very easily. Do you know my pet dog’s name? I love my pet very much.\n"
     ]
    }
   ],
   "source": [
    "#TASK9\n",
    "inpu=input(\"Enter a input :\")\n",
    "def para_function(inpu):\n",
    "    new_str = ''\n",
    "    new_word = inpu[0].upper()\n",
    "    new_str += new_word\n",
    "    for x in range(1,len(inpu)):\n",
    "        if ( inpu[x - 2] == '.' or inpu[x - 2] == '!' or inpu[x - 2] == '?' ) and inpu[x-1] == ' ':\n",
    "            word = inpu[x].upper()\n",
    "            new_str += word\n",
    "        elif inpu[x] == 'i' and inpu[x- 1] == ' ' and inpu[x+ 1] == ' ':\n",
    "            word = inpu[x].upper()\n",
    "            new_str += word\n",
    "        else:\n",
    "            new_str += inpu[x]\n",
    "\n",
    "    return new_str\n",
    "\n",
    "print(para_function(inpu))"
   ]
  },
  {
   "cell_type": "code",
   "execution_count": null,
   "metadata": {},
   "outputs": [],
   "source": []
  }
 ],
 "metadata": {
  "kernelspec": {
   "display_name": "Python 3",
   "language": "python",
   "name": "python3"
  },
  "language_info": {
   "codemirror_mode": {
    "name": "ipython",
    "version": 3
   },
   "file_extension": ".py",
   "mimetype": "text/x-python",
   "name": "python",
   "nbconvert_exporter": "python",
   "pygments_lexer": "ipython3",
   "version": "3.8.5"
  }
 },
 "nbformat": 4,
 "nbformat_minor": 4
}

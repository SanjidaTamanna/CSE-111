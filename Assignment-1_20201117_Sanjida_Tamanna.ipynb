{
 "cells": [
  {
   "cell_type": "code",
   "execution_count": 1,
   "metadata": {},
   "outputs": [
    {
     "name": "stdout",
     "output_type": "stream",
     "text": [
      "Enter a string:HOusE\n",
      "HOUSE"
     ]
    }
   ],
   "source": [
    "# string-1\n",
    "\n",
    "inp = input(\"Enter a string:\")\n",
    "cou = 0\n",
    "coun = 0\n",
    "stri = len(inp)\n",
    "\n",
    "for i in range(stri):\n",
    "    if 97 <= ord(inp[i]) <= 122:\n",
    "        coun += 1\n",
    "    if 65 <= ord(inp[i]) <= 90:\n",
    "        cou += 1\n",
    "\n",
    "if cou <= coun:\n",
    "    for s in range(len(inp)):\n",
    "        if \"A\" <= inp[s] <= \"Z\":\n",
    "            A = ord(inp[s])\n",
    "            B = A + 32\n",
    "            C = chr(B)\n",
    "            print(C, end='')\n",
    "        else:\n",
    "            print(inp[s], end='')\n",
    "\n",
    "else:\n",
    "    for e in range(len(inp)):\n",
    "        if \"a\" <= inp[e] <= \"z\":\n",
    "            a = ord(inp[e])\n",
    "            b = a - 32\n",
    "            c = chr(b)\n",
    "            print(c, end='')\n",
    "        else:\n",
    "            print(inp[e], end='')\n"
   ]
  },
  {
   "cell_type": "code",
   "execution_count": 2,
   "metadata": {},
   "outputs": [
    {
     "name": "stdout",
     "output_type": "stream",
     "text": [
      "Enter a string :4672467\n",
      "NUMBER\n"
     ]
    }
   ],
   "source": [
    "# string-2\n",
    "\n",
    "inpu = input(\"Enter a string :\")\n",
    "coun = 0\n",
    "cou = 0\n",
    "str = len(inpu)\n",
    "\n",
    "for i in range(str):\n",
    "    if (48 <= ord(inpu[i]) <= 57):\n",
    "        coun += 1\n",
    "    elif (97 <= ord(inpu[i]) <= 122) or (65 <= ord(inpu[i]) <= 90):\n",
    "        cou += 1\n",
    "\n",
    "if (str == coun):\n",
    "    print(\"NUMBER\")\n",
    "elif str == cou:\n",
    "    print(\"WORD\")\n",
    "else:\n",
    "    print(\"MIXED\")"
   ]
  },
  {
   "cell_type": "code",
   "execution_count": 3,
   "metadata": {},
   "outputs": [
    {
     "name": "stdout",
     "output_type": "stream",
     "text": [
      "Enter a string :baNgladEsh\n",
      "glad\n"
     ]
    }
   ],
   "source": [
    "# string-3\n",
    "\n",
    "inpu = input(\"Enter a string :\")\n",
    "sub = 0\n",
    "num = \"\"\n",
    "\n",
    "for i in inpu:\n",
    "    if (i >= \"A\" and i <= \"Z\"):\n",
    "        sub += 1\n",
    "    elif (sub == 1):\n",
    "        num += i\n",
    "if len(num) > 0:\n",
    "    print(num)\n",
    "else:\n",
    "    print(\"BLANK\")"
   ]
  },
  {
   "cell_type": "code",
   "execution_count": 4,
   "metadata": {},
   "outputs": [
    {
     "name": "stdout",
     "output_type": "stream",
     "text": [
      "Enter a sentence :The book is not too good!\n",
      "The book is not excellent!\n"
     ]
    }
   ],
   "source": [
    "#string-4\n",
    "inpu=input(\"Enter a sentence :\")\n",
    "if \"too good\" in inpu:\n",
    "    print(inpu.replace(\"too good\", \"excellent\"))\n",
    "else:\n",
    "    print(inpu)"
   ]
  },
  {
   "cell_type": "code",
   "execution_count": 5,
   "metadata": {},
   "outputs": [
    {
     "name": "stdout",
     "output_type": "stream",
     "text": [
      "Enter a string :harry,hermoie\n",
      "hrrhr\n"
     ]
    }
   ],
   "source": [
    "#string -5\n",
    "impu_1 ,impu_2 =input(\"Enter a string :\").split(\",\")\n",
    "char=\"\"\n",
    "\n",
    "for i in impu_1:\n",
    "    if i in impu_2:\n",
    "        char+=i\n",
    "for e in impu_2:\n",
    "    if e in impu_1:\n",
    "        char+=e\n",
    "if (len(char)>0):\n",
    "    print(char)\n",
    "else:\n",
    "    print(\"Nothing in common.\")"
   ]
  },
  {
   "cell_type": "code",
   "execution_count": 6,
   "metadata": {},
   "outputs": [
    {
     "name": "stdout",
     "output_type": "stream",
     "text": [
      "Enter a password: ohMyBR@CU\n",
      "Digit Missing\n"
     ]
    }
   ],
   "source": [
    "#string- 6\n",
    "\n",
    "passw=input(\"Enter a password: \")\n",
    "upp_cou=0\n",
    "low_cou=0\n",
    "digi_cou=0\n",
    "spe_char_cou=0\n",
    "spe_char_list=[ \"_\",\"$\",\"#\",\"@\"]\n",
    "for item in passw:\n",
    "    if ord(\"A\")<ord(item)<ord(\"Z\"):\n",
    "        upp_cou+= 1\n",
    "    if ord(\"a\")<ord(item)<ord(\"z\"):\n",
    "        low_cou+= 1\n",
    "    if ord(\"0\") < ord(item)<ord(\"9\"):\n",
    "        digi_cou += 1\n",
    "    if item in spe_char_list:\n",
    "        spe_char_cou+= 1\n",
    "final_result=\"\"\n",
    "if upp_cou==0:\n",
    "    final_result+=(\"Uppercase Missing,\")\n",
    "if low_cou==0:\n",
    "    final_result+=(\"Lowercase Missing,\")\n",
    "if digi_cou==0:\n",
    "    final_result+=(\"Digit Missing,\")\n",
    "if spe_char_cou==0:\n",
    "    final_result+=(\"Special character Missing,\")\n",
    "if upp_cou>= 1 and low_cou>= 1 and digi_cou>= 1 and spe_char_cou>= 1 :\n",
    "    final_result+=(\"OK,\")\n",
    "print((final_result).strip(\" ,\"))"
   ]
  },
  {
   "cell_type": "code",
   "execution_count": 8,
   "metadata": {},
   "outputs": [
    {
     "name": "stdout",
     "output_type": "stream",
     "text": [
      "Enter numbers :10\n",
      "Enter numbers :10\n",
      "Enter numbers :20\n",
      "Enter numbers :20\n",
      "Enter numbers :30\n",
      "Enter numbers :30\n",
      "Enter numbers :40\n",
      "Enter numbers :50\n",
      "Enter numbers :60\n",
      "Enter numbers :STOP\n",
      "10 - 2 times\n",
      "20 - 2 times\n",
      "30 - 2 times\n",
      "40 - 1 times\n",
      "50 - 1 times\n",
      "60 - 1 times\n"
     ]
    }
   ],
   "source": [
    "#list-1\n",
    "\n",
    "li1=[]\n",
    "li2=[]\n",
    "while True:\n",
    "    inp=input(\"Enter numbers :\")\n",
    "    if inp==\"STOP\":\n",
    "        break\n",
    "    else:\n",
    "        li1.append(int(inp))\n",
    "\n",
    "for i in li1:\n",
    "    if (i not in li2):\n",
    "        li2.append(i)\n",
    "for i in range(0,len(li2)):\n",
    "    print(li2[i],'-',li1.count(li2[i]),\"times\")"
   ]
  },
  {
   "cell_type": "code",
   "execution_count": 10,
   "metadata": {},
   "outputs": [
    {
     "name": "stdout",
     "output_type": "stream",
     "text": [
      "Enter value of N :4\n",
      "1 2 3\n",
      "4 5 6\n",
      "7 8 9\n",
      "10 11 12\n",
      "33\n",
      "[10, 11, 12]\n"
     ]
    }
   ],
   "source": [
    "#list-2\n",
    "li=[]\n",
    "num=int()\n",
    "N=int(input(\"Enter value of N :\"))\n",
    "for i in range(0,N):\n",
    "    numb=[int(n) for n in input().split()]\n",
    "    li.append(numb)\n",
    "    ma=0\n",
    "    for z in li:\n",
    "        sum=0\n",
    "        for e in z:\n",
    "            sum+=e\n",
    "        ma=max(sum,ma)\n",
    "        if num<ma:\n",
    "            num=ma\n",
    "            highest_list=numb\n",
    "print(ma)\n",
    "print(highest_list)"
   ]
  },
  {
   "cell_type": "code",
   "execution_count": 12,
   "metadata": {},
   "outputs": [
    {
     "name": "stdout",
     "output_type": "stream",
     "text": [
      "Enter first list :2 3 6\n",
      "Enter second list :3 4 5\n",
      "[6, 8, 10, 9, 12, 15, 18, 24, 30]\n"
     ]
    }
   ],
   "source": [
    "#list-3\n",
    "li=[]\n",
    "li1=[int(n) for n in input(\"Enter first list :\").split(\" \")]\n",
    "li2=[int(n) for n in input(\"Enter second list :\").split(\" \")]\n",
    "for number1 in li1:\n",
    "    for number2 in li2:\n",
    "        numb=number2*number1\n",
    "        li.append(numb)\n",
    "print(li)\n"
   ]
  },
  {
   "cell_type": "code",
   "execution_count": 13,
   "metadata": {},
   "outputs": [
    {
     "name": "stdout",
     "output_type": "stream",
     "text": [
      "Enter numbers of the list : 1 4 2 3\n",
      "Enter numbers of the list : 2 1 4 6 10\n",
      "Enter numbers of the list : 1 4 2 -1 6\n",
      "Enter numbers of the list : STOP\n",
      "UB Jumper\n",
      "UB Jumper\n",
      "Not UB Jumper\n"
     ]
    }
   ],
   "source": [
    "#list-4\n",
    "\n",
    "li=[]\n",
    "while True:\n",
    "    num= input(\"Enter numbers of the list : \")\n",
    "    if num==\"STOP\":\n",
    "\n",
    "        break\n",
    "\n",
    "    else:\n",
    "        num=num.split(\" \")\n",
    "        num=[int(n) for n in num]\n",
    "        li.append(num)\n",
    "lis=[]\n",
    "\n",
    "for it in li:\n",
    "    for ite in range(len(it)-1):\n",
    "        diff=it[ite+1]-it[ite]\n",
    "        diff=abs(diff)\n",
    "    lis.append(diff)\n",
    "\n",
    "    for item in lis:\n",
    "        if (len(it))>item>=1:\n",
    "            result=\"UB Jumper\"\n",
    "        else:\n",
    "            result=\"Not UB Jumper\"\n",
    "\n",
    "    print(result)"
   ]
  },
  {
   "cell_type": "code",
   "execution_count": 1,
   "metadata": {},
   "outputs": [
    {
     "name": "stdout",
     "output_type": "stream",
     "text": [
      "Enter a input :Bracu1234\n",
      "acruB1324\n"
     ]
    }
   ],
   "source": [
    "#list-5\n",
    "\n",
    "inp=input(\"Enter a input :\")\n",
    "upper=[]\n",
    "lower=[]\n",
    "numb=[]\n",
    "new_li=\"\"\n",
    "strt=sorted(inp)\n",
    "\n",
    "for i in strt:\n",
    "\n",
    "    if (i>=\"a\" and i<=\"z\"):\n",
    "      lower.append(i)\n",
    "    if (i>=\"A\" and i<=\"Z\"):\n",
    "      upper.append(i)\n",
    "    if (i>=\"0\" and i<=\"9\"):\n",
    "      numb.append(int(i))\n",
    "\n",
    "for i in lower:\n",
    "  new_li+=i\n",
    "\n",
    "for i in upper:\n",
    "  new_li+=i\n",
    "\n",
    "for i in numb:\n",
    "  if i%2==1:\n",
    "    new_li+=str(i)\n",
    "for i in numb:\n",
    "  if i%2==0:\n",
    "    new_li+=str(i)\n",
    "print(new_li)\n"
   ]
  },
  {
   "cell_type": "code",
   "execution_count": 19,
   "metadata": {},
   "outputs": [
    {
     "name": "stdout",
     "output_type": "stream",
     "text": [
      "Enter the value number1 & number2: 5 2\n",
      "Enter the number of participate times: 0 4 5 1 0\n",
      "1\n"
     ]
    }
   ],
   "source": [
    "#list-6\n",
    "\n",
    "numb1,numb2= tuple(map(int,input(\"Enter the value number1 & number2: \").split(\" \")))\n",
    "list1=[int(n) for n in input(\"Enter the number of participate times: \").split(\" \")]\n",
    "count1=0\n",
    "for ite in list1:\n",
    "    if ite<=(5-numb2):\n",
    "        count1+=1\n",
    "print(count1//3)"
   ]
  },
  {
   "cell_type": "code",
   "execution_count": 1,
   "metadata": {},
   "outputs": [
    {
     "name": "stdout",
     "output_type": "stream",
     "text": [
      "{'a': 400, 'b': 300, 'c': 200, 'd': 700, 'e': 200}\n",
      "(200, 300, 400, 700)\n"
     ]
    }
   ],
   "source": [
    "#DICTIONARY & TUPLE-1\n",
    "dic_1={'a':100,'b':100,'c':200,'d':300}\n",
    "dic_2={'a':300,'b':200,'d':400,'e':200}\n",
    "dic_3=dict(dic_1)\n",
    "dic_3.update(dic_2)\n",
    "for key_1,value_1 in dic_1.items():\n",
    "    for key_2,value_2 in dic_2.items():\n",
    "        if key_1==key_2:\n",
    "            dic_3[key_1]=(value_1+value_2)\n",
    "print(dic_3)\n",
    "sorted_dict={}\n",
    "for k,v in dic_3.items():\n",
    "    if v not in sorted_dict.values():\n",
    "        sorted_dict[k]=v\n",
    "print(tuple(sorted(sorted_dict.values())))"
   ]
  },
  {
   "cell_type": "code",
   "execution_count": 2,
   "metadata": {},
   "outputs": [
    {
     "name": "stdout",
     "output_type": "stream",
     "text": [
      "Enter values:10\n",
      "Enter values:10\n",
      "Enter values:20\n",
      "Enter values:30\n",
      "Enter values:40\n",
      "Enter values:40\n",
      "Enter values:50\n",
      "Enter values:60\n",
      "Enter values:70\n",
      "Enter values:70\n",
      "Enter values:STOP\n",
      "10 - 2 times\n",
      "20 - 1 times\n",
      "30 - 1 times\n",
      "40 - 2 times\n",
      "50 - 1 times\n",
      "60 - 1 times\n",
      "70 - 2 times\n"
     ]
    }
   ],
   "source": [
    "# DICTIONARY & TUPLE-2\n",
    "\n",
    "dic = {}\n",
    "while True:\n",
    "    numb = input(\"Enter values:\")\n",
    "    if numb.upper() == 'STOP':\n",
    "\n",
    "        break\n",
    "\n",
    "    elif numb in dic:\n",
    "        dic[numb] += 1\n",
    "    else:\n",
    "        dic[numb] = 1\n",
    "\n",
    "for key, value in dic.items():\n",
    "    print(key, '-', value, 'times')"
   ]
  },
  {
   "cell_type": "code",
   "execution_count": null,
   "metadata": {},
   "outputs": [],
   "source": [
    "#DICTIONARY & TUPLE-3\n",
    "dic={}\n",
    "nub=int(input('how many elements for dict :'))\n",
    "for i in range(nub):\n",
    "    key_1 = input(\"Key: \")\n",
    "    valu= (input('Value: '))\n",
    "    dic[key_1]=valu\n",
    "new_dict = {}\n",
    "for key, value in dic.items():\n",
    "    if value in new_dict:\n",
    "        new_dict[value].append(key)\n",
    "    else:\n",
    "        new_dict[value]=[key]\n",
    "        \n",
    "print(new_dict)"
   ]
  },
  {
   "cell_type": "code",
   "execution_count": 3,
   "metadata": {},
   "outputs": [
    {
     "name": "stdout",
     "output_type": "stream",
     "text": [
      "Enter first string:evil\n",
      "Enter second string:live\n",
      "Those strings are anagrams.\n"
     ]
    }
   ],
   "source": [
    "#DICTIONARY & TUPLE task-4\n",
    "inpu_1=input(\"Enter first string:\")\n",
    "inpu_2=input(\"Enter second string:\")\n",
    "\n",
    "dic_1={}\n",
    "dic_2={}\n",
    "\n",
    "for i in inpu_1:\n",
    "    if (i in dic_1):\n",
    "        dic_1[i]+=1\n",
    "    else:\n",
    "        dic_1[i]=1\n",
    "\n",
    "for i in inpu_2:\n",
    "    if (i in dic_2):\n",
    "        dic_2[i]+=1\n",
    "    else:\n",
    "        dic_2[i]=1\n",
    "\n",
    "if (dic_1==dic_2):\n",
    "    print(\"Those strings are anagrams.\")\n",
    "else:\n",
    "    print(\"not anagram\")\n"
   ]
  },
  {
   "cell_type": "code",
   "execution_count": 4,
   "metadata": {},
   "outputs": [
    {
     "name": "stdout",
     "output_type": "stream",
     "text": [
      "Enter Input :hello,World!\n",
      "44335555556661196667775553111\n"
     ]
    }
   ],
   "source": [
    "#DICTIONARY & TUPLE-5\n",
    "dic = {1:['.',',','!','?'], 2:['A','B','C'], 3:['D','E','F'], 4:['G','H','I'], 5:['J','K','L'], 6:['M','N','O'], 7:['P','Q','R','S'], 8:['T','U','V'], 9:['W','X','Y','Z'], 0:[' ']}\n",
    "inp=input(\"Enter Input :\")\n",
    "st=inp.upper()\n",
    "valu=\"\"\n",
    "\n",
    "\n",
    "for inp in st:\n",
    "    i=0\n",
    "    for k,v in dic.items():\n",
    "        if inp in v:\n",
    "            i=v.index(inp)+1\n",
    "            for i in range(i):\n",
    "                valu+=str(k)\n",
    "print(valu)"
   ]
  },
  {
   "cell_type": "code",
   "execution_count": null,
   "metadata": {},
   "outputs": [],
   "source": []
  }
 ],
 "metadata": {
  "kernelspec": {
   "display_name": "Python 3",
   "language": "python",
   "name": "python3"
  },
  "language_info": {
   "codemirror_mode": {
    "name": "ipython",
    "version": 3
   },
   "file_extension": ".py",
   "mimetype": "text/x-python",
   "name": "python",
   "nbconvert_exporter": "python",
   "pygments_lexer": "ipython3",
   "version": "3.8.5"
  }
 },
 "nbformat": 4,
 "nbformat_minor": 4
}

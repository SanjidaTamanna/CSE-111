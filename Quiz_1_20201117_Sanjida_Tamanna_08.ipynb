{
 "cells": [
  {
   "cell_type": "code",
   "execution_count": null,
   "metadata": {},
   "outputs": [],
   "source": [
    "inpu=input(\"Enter a input:\").split(\" \")\n",
    "inpu_1=\"ABCDEFGHIJKLMNOPQRSTUVWXYZ\"\n",
    "dic={}\n",
    "for prio in range(26):\n",
    "    ans={}\n",
    "    for quiz in range(0,len(inpu),2):\n",
    "        inpu_2=inpu[quiz]\n",
    "                   \n",
    "        if inpu_2[0]==inpu_1[prio]:\n",
    "            ans[prio]=inpu_2[inpu+1]\n",
    "    if  ans!={}:\n",
    "        dic[inpu_1[prio]]=ans\n",
    "print(dic)\n"
   ]
  },
  {
   "cell_type": "code",
   "execution_count": null,
   "metadata": {},
   "outputs": [],
   "source": []
  }
 ],
 "metadata": {
  "kernelspec": {
   "display_name": "Python 3",
   "language": "python",
   "name": "python3"
  },
  "language_info": {
   "codemirror_mode": {
    "name": "ipython",
    "version": 3
   },
   "file_extension": ".py",
   "mimetype": "text/x-python",
   "name": "python",
   "nbconvert_exporter": "python",
   "pygments_lexer": "ipython3",
   "version": "3.8.5"
  }
 },
 "nbformat": 4,
 "nbformat_minor": 4
}
